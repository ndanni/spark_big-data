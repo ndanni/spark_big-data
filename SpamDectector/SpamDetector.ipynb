{
 "cells": [
  {
   "cell_type": "code",
   "execution_count": 1,
   "id": "2400cb96",
   "metadata": {},
   "outputs": [],
   "source": [
    "import findspark\n",
    "findspark.init('/home/ndane/spark')\n",
    "import pyspark"
   ]
  },
  {
   "cell_type": "code",
   "execution_count": 2,
   "id": "ba71adfc",
   "metadata": {},
   "outputs": [],
   "source": [
    "findspark.init()"
   ]
  },
  {
   "cell_type": "code",
   "execution_count": 3,
   "id": "5686e419",
   "metadata": {},
   "outputs": [],
   "source": [
    "from pyspark.sql import SparkSession"
   ]
  },
  {
   "cell_type": "code",
   "execution_count": 5,
   "id": "da88e911",
   "metadata": {},
   "outputs": [],
   "source": [
    "spark = SparkSession.builder.appName(\"Basics\").getOrCreate()"
   ]
  },
  {
   "cell_type": "code",
   "execution_count": 6,
   "id": "4587e258",
   "metadata": {},
   "outputs": [
    {
     "name": "stderr",
     "output_type": "stream",
     "text": [
      "\r",
      "[Stage 0:>                                                          (0 + 1) / 1]\r",
      "\r",
      "                                                                                \r"
     ]
    }
   ],
   "source": [
    "df = spark.read.csv('SMSSpamCollection.csv', sep = '\\t', inferSchema=True, header = False)"
   ]
  },
  {
   "cell_type": "code",
   "execution_count": 7,
   "id": "97d25327",
   "metadata": {},
   "outputs": [
    {
     "name": "stdout",
     "output_type": "stream",
     "text": [
      "+----+--------------------+\n",
      "| _c0|                 _c1|\n",
      "+----+--------------------+\n",
      "| ham|Go until jurong p...|\n",
      "| ham|Ok lar... Joking ...|\n",
      "|spam|Free entry in 2 a...|\n",
      "| ham|U dun say so earl...|\n",
      "| ham|Nah I don't think...|\n",
      "|spam|FreeMsg Hey there...|\n",
      "| ham|Even my brother i...|\n",
      "| ham|As per your reque...|\n",
      "|spam|WINNER!! As a val...|\n",
      "|spam|Had your mobile 1...|\n",
      "| ham|I'm gonna be home...|\n",
      "|spam|SIX chances to wi...|\n",
      "|spam|URGENT! You have ...|\n",
      "| ham|I've been searchi...|\n",
      "| ham|I HAVE A DATE ON ...|\n",
      "|spam|XXXMobileMovieClu...|\n",
      "| ham|Oh k...i'm watchi...|\n",
      "| ham|Eh u remember how...|\n",
      "| ham|Fine if thats th...|\n",
      "|spam|England v Macedon...|\n",
      "+----+--------------------+\n",
      "only showing top 20 rows\n",
      "\n"
     ]
    }
   ],
   "source": [
    "df.show()"
   ]
  },
  {
   "cell_type": "code",
   "execution_count": 8,
   "id": "e49a7bd8",
   "metadata": {},
   "outputs": [
    {
     "name": "stdout",
     "output_type": "stream",
     "text": [
      "+-----+--------------------+\n",
      "|class|                text|\n",
      "+-----+--------------------+\n",
      "|  ham|Go until jurong p...|\n",
      "|  ham|Ok lar... Joking ...|\n",
      "| spam|Free entry in 2 a...|\n",
      "|  ham|U dun say so earl...|\n",
      "|  ham|Nah I don't think...|\n",
      "| spam|FreeMsg Hey there...|\n",
      "|  ham|Even my brother i...|\n",
      "|  ham|As per your reque...|\n",
      "| spam|WINNER!! As a val...|\n",
      "| spam|Had your mobile 1...|\n",
      "|  ham|I'm gonna be home...|\n",
      "| spam|SIX chances to wi...|\n",
      "| spam|URGENT! You have ...|\n",
      "|  ham|I've been searchi...|\n",
      "|  ham|I HAVE A DATE ON ...|\n",
      "| spam|XXXMobileMovieClu...|\n",
      "|  ham|Oh k...i'm watchi...|\n",
      "|  ham|Eh u remember how...|\n",
      "|  ham|Fine if thats th...|\n",
      "| spam|England v Macedon...|\n",
      "+-----+--------------------+\n",
      "only showing top 20 rows\n",
      "\n"
     ]
    }
   ],
   "source": [
    "df2 = df.withColumnRenamed(\"_c0\",\"class\").withColumnRenamed(\"_c1\",\"text\")\n",
    "df2.show()"
   ]
  },
  {
   "cell_type": "markdown",
   "id": "b51eff79",
   "metadata": {},
   "source": [
    "Clean and Prepare the Data"
   ]
  },
  {
   "cell_type": "code",
   "execution_count": 9,
   "id": "7bad352d",
   "metadata": {},
   "outputs": [],
   "source": [
    "import pyspark.sql.functions as F"
   ]
  },
  {
   "cell_type": "code",
   "execution_count": 10,
   "id": "4d364eae",
   "metadata": {},
   "outputs": [
    {
     "name": "stdout",
     "output_type": "stream",
     "text": [
      "+-----+--------------------+----------+\n",
      "|class|                text|textLength|\n",
      "+-----+--------------------+----------+\n",
      "|  ham|Go until jurong p...|       111|\n",
      "|  ham|Ok lar... Joking ...|        29|\n",
      "| spam|Free entry in 2 a...|       155|\n",
      "|  ham|U dun say so earl...|        49|\n",
      "|  ham|Nah I don't think...|        61|\n",
      "| spam|FreeMsg Hey there...|       147|\n",
      "|  ham|Even my brother i...|        77|\n",
      "|  ham|As per your reque...|       160|\n",
      "| spam|WINNER!! As a val...|       157|\n",
      "| spam|Had your mobile 1...|       154|\n",
      "|  ham|I'm gonna be home...|       109|\n",
      "| spam|SIX chances to wi...|       136|\n",
      "| spam|URGENT! You have ...|       155|\n",
      "|  ham|I've been searchi...|       196|\n",
      "|  ham|I HAVE A DATE ON ...|        35|\n",
      "| spam|XXXMobileMovieClu...|       149|\n",
      "|  ham|Oh k...i'm watchi...|        26|\n",
      "|  ham|Eh u remember how...|        81|\n",
      "|  ham|Fine if thats th...|        56|\n",
      "| spam|England v Macedon...|       155|\n",
      "+-----+--------------------+----------+\n",
      "only showing top 20 rows\n",
      "\n"
     ]
    }
   ],
   "source": [
    "df3 = df2.withColumn('textLength', F.length('text')).show()"
   ]
  },
  {
   "cell_type": "code",
   "execution_count": 11,
   "id": "6b68c062",
   "metadata": {},
   "outputs": [],
   "source": [
    "from pyspark.ml.feature import Tokenizer, CountVectorizer, StopWordsRemover, IDF, StringIndexer, NGram"
   ]
  },
  {
   "cell_type": "code",
   "execution_count": 13,
   "id": "7e8852c5",
   "metadata": {},
   "outputs": [],
   "source": [
    "tokenizer = Tokenizer(inputCol = \"text\", outputCol='words')"
   ]
  },
  {
   "cell_type": "code",
   "execution_count": 14,
   "id": "e61e1a5b",
   "metadata": {},
   "outputs": [
    {
     "name": "stdout",
     "output_type": "stream",
     "text": [
      "+-----+----------------------------------------------------------------------------------------------------------------------------------------------------------------------------------------------------+------------------------------------------------------------------------------------------------------------------------------------------------------------------------------------------------------------------------------------------+\n",
      "|class|text                                                                                                                                                                                                |words                                                                                                                                                                                                                                     |\n",
      "+-----+----------------------------------------------------------------------------------------------------------------------------------------------------------------------------------------------------+------------------------------------------------------------------------------------------------------------------------------------------------------------------------------------------------------------------------------------------+\n",
      "|ham  |Go until jurong point, crazy.. Available only in bugis n great world la e buffet... Cine there got amore wat...                                                                                     |[go, until, jurong, point,, crazy.., available, only, in, bugis, n, great, world, la, e, buffet..., cine, there, got, amore, wat...]                                                                                                      |\n",
      "|ham  |Ok lar... Joking wif u oni...                                                                                                                                                                       |[ok, lar..., joking, wif, u, oni...]                                                                                                                                                                                                      |\n",
      "|spam |Free entry in 2 a wkly comp to win FA Cup final tkts 21st May 2005. Text FA to 87121 to receive entry question(std txt rate)T&C's apply 08452810075over18's                                         |[free, entry, in, 2, a, wkly, comp, to, win, fa, cup, final, tkts, 21st, may, 2005., text, fa, to, 87121, to, receive, entry, question(std, txt, rate)t&c's, apply, 08452810075over18's]                                                  |\n",
      "|ham  |U dun say so early hor... U c already then say...                                                                                                                                                   |[u, dun, say, so, early, hor..., u, c, already, then, say...]                                                                                                                                                                             |\n",
      "|ham  |Nah I don't think he goes to usf, he lives around here though                                                                                                                                       |[nah, i, don't, think, he, goes, to, usf,, he, lives, around, here, though]                                                                                                                                                               |\n",
      "|spam |FreeMsg Hey there darling it's been 3 week's now and no word back! I'd like some fun you up for it still? Tb ok! XxX std chgs to send, £1.50 to rcv                                                 |[freemsg, hey, there, darling, it's, been, 3, week's, now, and, no, word, back!, i'd, like, some, fun, you, up, for, it, still?, tb, ok!, xxx, std, chgs, to, send,, £1.50, to, rcv]                                                      |\n",
      "|ham  |Even my brother is not like to speak with me. They treat me like aids patent.                                                                                                                       |[even, my, brother, is, not, like, to, speak, with, me., they, treat, me, like, aids, patent.]                                                                                                                                            |\n",
      "|ham  |As per your request 'Melle Melle (Oru Minnaminunginte Nurungu Vettam)' has been set as your callertune for all Callers. Press *9 to copy your friends Callertune                                    |[as, per, your, request, 'melle, melle, (oru, minnaminunginte, nurungu, vettam)', has, been, set, as, your, callertune, for, all, callers., press, *9, to, copy, your, friends, callertune]                                               |\n",
      "|spam |WINNER!! As a valued network customer you have been selected to receivea £900 prize reward! To claim call 09061701461. Claim code KL341. Valid 12 hours only.                                       |[winner!!, as, a, valued, network, customer, you, have, been, selected, to, receivea, £900, prize, reward!, to, claim, call, 09061701461., claim, code, kl341., valid, 12, hours, only.]                                                  |\n",
      "|spam |Had your mobile 11 months or more? U R entitled to Update to the latest colour mobiles with camera for Free! Call The Mobile Update Co FREE on 08002986030                                          |[had, your, mobile, 11, months, or, more?, u, r, entitled, to, update, to, the, latest, colour, mobiles, with, camera, for, free!, call, the, mobile, update, co, free, on, 08002986030]                                                  |\n",
      "|ham  |I'm gonna be home soon and i don't want to talk about this stuff anymore tonight, k? I've cried enough today.                                                                                       |[i'm, gonna, be, home, soon, and, i, don't, want, to, talk, about, this, stuff, anymore, tonight,, k?, i've, cried, enough, today.]                                                                                                       |\n",
      "|spam |SIX chances to win CASH! From 100 to 20,000 pounds txt> CSH11 and send to 87575. Cost 150p/day, 6days, 16+ TsandCs apply Reply HL 4 info                                                            |[six, chances, to, win, cash!, from, 100, to, 20,000, pounds, txt>, csh11, and, send, to, 87575., cost, 150p/day,, 6days,, 16+, tsandcs, apply, reply, hl, 4, info]                                                                       |\n",
      "|spam |URGENT! You have won a 1 week FREE membership in our £100,000 Prize Jackpot! Txt the word: CLAIM to No: 81010 T&C www.dbuk.net LCCLTD POBOX 4403LDNW1A7RW18                                         |[urgent!, you, have, won, a, 1, week, free, membership, in, our, £100,000, prize, jackpot!, txt, the, word:, claim, to, no:, 81010, t&c, www.dbuk.net, lccltd, pobox, 4403ldnw1a7rw18]                                                    |\n",
      "|ham  |I've been searching for the right words to thank you for this breather. I promise i wont take your help for granted and will fulfil my promise. You have been wonderful and a blessing at all times.|[i've, been, searching, for, the, right, words, to, thank, you, for, this, breather., i, promise, i, wont, take, your, help, for, granted, and, will, fulfil, my, promise., you, have, been, wonderful, and, a, blessing, at, all, times.]|\n",
      "|ham  |I HAVE A DATE ON SUNDAY WITH WILL!!                                                                                                                                                                 |[i, have, a, date, on, sunday, with, will!!]                                                                                                                                                                                              |\n",
      "|spam |XXXMobileMovieClub: To use your credit, click the WAP link in the next txt message or click here>> http://wap. xxxmobilemovieclub.com?n=QJKGIGHJJGCBL                                               |[xxxmobilemovieclub:, to, use, your, credit,, click, the, wap, link, in, the, next, txt, message, or, click, here>>, http://wap., xxxmobilemovieclub.com?n=qjkgighjjgcbl]                                                                 |\n",
      "|ham  |Oh k...i'm watching here:)                                                                                                                                                                          |[oh, k...i'm, watching, here:)]                                                                                                                                                                                                           |\n",
      "|ham  |Eh u remember how 2 spell his name... Yes i did. He v naughty make until i v wet.                                                                                                                   |[eh, u, remember, how, 2, spell, his, name..., yes, i, did., he, v, naughty, make, until, i, v, wet.]                                                                                                                                     |\n",
      "|ham  |Fine if thats the way u feel. Thats the way its gota b                                                                                                                                            |[fine, if, thats, the, way, u, feel., thats, the, way, its, gota, b]                                                                                                                                                                    |\n",
      "|spam |England v Macedonia - dont miss the goals/team news. Txt ur national team to 87077 eg ENGLAND to 87077 Try:WALES, SCOTLAND 4txt/ú1.20 POBOXox36504W45WQ 16+                                         |[england, v, macedonia, -, dont, miss, the, goals/team, news., txt, ur, national, team, to, 87077, eg, england, to, 87077, try:wales,, scotland, 4txt/ú1.20, poboxox36504w45wq, 16+]                                                      |\n",
      "+-----+----------------------------------------------------------------------------------------------------------------------------------------------------------------------------------------------------+------------------------------------------------------------------------------------------------------------------------------------------------------------------------------------------------------------------------------------------+\n",
      "only showing top 20 rows\n",
      "\n"
     ]
    }
   ],
   "source": [
    "tokenized = tokenizer.transform(df2)\n",
    "tokenized.show(truncate=False)"
   ]
  },
  {
   "cell_type": "code",
   "execution_count": 16,
   "id": "57213bb2",
   "metadata": {},
   "outputs": [],
   "source": [
    "remover = StopWordsRemover(inputCol = \"words\", outputCol = \"c_vec\")"
   ]
  },
  {
   "cell_type": "code",
   "execution_count": 17,
   "id": "82f2add3",
   "metadata": {},
   "outputs": [
    {
     "name": "stdout",
     "output_type": "stream",
     "text": [
      "+-----------------------------------------------------------------------------------------------------------------------------------------------------------------------+\n",
      "|c_vec                                                                                                                                                                  |\n",
      "+-----------------------------------------------------------------------------------------------------------------------------------------------------------------------+\n",
      "|[go, jurong, point,, crazy.., available, bugis, n, great, world, la, e, buffet..., cine, got, amore, wat...]                                                           |\n",
      "|[ok, lar..., joking, wif, u, oni...]                                                                                                                                   |\n",
      "|[free, entry, 2, wkly, comp, win, fa, cup, final, tkts, 21st, may, 2005., text, fa, 87121, receive, entry, question(std, txt, rate)t&c's, apply, 08452810075over18's]  |\n",
      "|[u, dun, say, early, hor..., u, c, already, say...]                                                                                                                    |\n",
      "|[nah, think, goes, usf,, lives, around, though]                                                                                                                        |\n",
      "|[freemsg, hey, darling, 3, week's, word, back!, like, fun, still?, tb, ok!, xxx, std, chgs, send,, £1.50, rcv]                                                         |\n",
      "|[even, brother, like, speak, me., treat, like, aids, patent.]                                                                                                          |\n",
      "|[per, request, 'melle, melle, (oru, minnaminunginte, nurungu, vettam)', set, callertune, callers., press, *9, copy, friends, callertune]                               |\n",
      "|[winner!!, valued, network, customer, selected, receivea, £900, prize, reward!, claim, call, 09061701461., claim, code, kl341., valid, 12, hours, only.]               |\n",
      "|[mobile, 11, months, more?, u, r, entitled, update, latest, colour, mobiles, camera, free!, call, mobile, update, co, free, 08002986030]                               |\n",
      "|[gonna, home, soon, want, talk, stuff, anymore, tonight,, k?, cried, enough, today.]                                                                                   |\n",
      "|[six, chances, win, cash!, 100, 20,000, pounds, txt>, csh11, send, 87575., cost, 150p/day,, 6days,, 16+, tsandcs, apply, reply, hl, 4, info]                           |\n",
      "|[urgent!, won, 1, week, free, membership, £100,000, prize, jackpot!, txt, word:, claim, no:, 81010, t&c, www.dbuk.net, lccltd, pobox, 4403ldnw1a7rw18]                 |\n",
      "|[searching, right, words, thank, breather., promise, wont, take, help, granted, fulfil, promise., wonderful, blessing, times.]                                         |\n",
      "|[date, sunday, will!!]                                                                                                                                                 |\n",
      "|[xxxmobilemovieclub:, use, credit,, click, wap, link, next, txt, message, click, here>>, http://wap., xxxmobilemovieclub.com?n=qjkgighjjgcbl]                          |\n",
      "|[oh, k...i'm, watching, here:)]                                                                                                                                        |\n",
      "|[eh, u, remember, 2, spell, name..., yes, did., v, naughty, make, v, wet.]                                                                                             |\n",
      "|[fine, thats, way, u, feel., thats, way, gota, b]                                                                                                                    |\n",
      "|[england, v, macedonia, -, dont, miss, goals/team, news., txt, ur, national, team, 87077, eg, england, 87077, try:wales,, scotland, 4txt/ú1.20, poboxox36504w45wq, 16+]|\n",
      "+-----------------------------------------------------------------------------------------------------------------------------------------------------------------------+\n",
      "only showing top 20 rows\n",
      "\n"
     ]
    }
   ],
   "source": [
    "tokenize_out_sw = remover.transform(tokenized)\n",
    "tokenize_out_sw.select(\"c_vec\").show(truncate=False)"
   ]
  },
  {
   "cell_type": "code",
   "execution_count": 18,
   "id": "c47c298a",
   "metadata": {},
   "outputs": [],
   "source": [
    "cv = CountVectorizer(inputCol = 'c_vec', outputCol = \"c_vector\")"
   ]
  },
  {
   "cell_type": "code",
   "execution_count": 19,
   "id": "0f6f05e6",
   "metadata": {},
   "outputs": [
    {
     "name": "stderr",
     "output_type": "stream",
     "text": [
      "                                                                                \r"
     ]
    },
    {
     "name": "stdout",
     "output_type": "stream",
     "text": [
      "+-----+----------------------------------------------------------------------------------------------------------------------------------------------------------------------------------------------------+------------------------------------------------------------------------------------------------------------------------------------------------------------------------------------------------------------------------------------------+-----------------------------------------------------------------------------------------------------------------------------------------------------------------------+------------------------------------------------------------------------------------------------------------------------------------------------------------------------------------------+\n",
      "|class|text                                                                                                                                                                                                |words                                                                                                                                                                                                                                     |c_vec                                                                                                                                                                  |c_vector                                                                                                                                                                                  |\n",
      "+-----+----------------------------------------------------------------------------------------------------------------------------------------------------------------------------------------------------+------------------------------------------------------------------------------------------------------------------------------------------------------------------------------------------------------------------------------------------+-----------------------------------------------------------------------------------------------------------------------------------------------------------------------+------------------------------------------------------------------------------------------------------------------------------------------------------------------------------------------+\n",
      "|ham  |Go until jurong point, crazy.. Available only in bugis n great world la e buffet... Cine there got amore wat...                                                                                     |[go, until, jurong, point,, crazy.., available, only, in, bugis, n, great, world, la, e, buffet..., cine, there, got, amore, wat...]                                                                                                      |[go, jurong, point,, crazy.., available, bugis, n, great, world, la, e, buffet..., cine, got, amore, wat...]                                                           |(13423,[7,11,31,61,72,344,625,731,1409,1598,4485,6440,8092,8838,11344,12979],[1.0,1.0,1.0,1.0,1.0,1.0,1.0,1.0,1.0,1.0,1.0,1.0,1.0,1.0,1.0,1.0])                                           |\n",
      "|ham  |Ok lar... Joking wif u oni...                                                                                                                                                                       |[ok, lar..., joking, wif, u, oni...]                                                                                                                                                                                                      |[ok, lar..., joking, wif, u, oni...]                                                                                                                                   |(13423,[0,24,297,457,2601,3605],[1.0,1.0,1.0,1.0,1.0,1.0])                                                                                                                                |\n",
      "|spam |Free entry in 2 a wkly comp to win FA Cup final tkts 21st May 2005. Text FA to 87121 to receive entry question(std txt rate)T&C's apply 08452810075over18's                                         |[free, entry, in, 2, a, wkly, comp, to, win, fa, cup, final, tkts, 21st, may, 2005., text, fa, to, 87121, to, receive, entry, question(std, txt, rate)t&c's, apply, 08452810075over18's]                                                  |[free, entry, 2, wkly, comp, win, fa, cup, final, tkts, 21st, may, 2005., text, fa, 87121, receive, entry, question(std, txt, rate)t&c's, apply, 08452810075over18's]  |(13423,[2,13,19,30,89,154,193,305,458,515,631,855,954,1916,2010,2356,3023,3287,3442,5016,5200],[1.0,1.0,1.0,1.0,1.0,1.0,1.0,2.0,1.0,1.0,1.0,1.0,1.0,1.0,1.0,2.0,1.0,1.0,1.0,1.0,1.0])     |\n",
      "|ham  |U dun say so early hor... U c already then say...                                                                                                                                                   |[u, dun, say, so, early, hor..., u, c, already, then, say...]                                                                                                                                                                             |[u, dun, say, early, hor..., u, c, already, say...]                                                                                                                    |(13423,[0,70,80,128,147,323,2911,3598],[2.0,1.0,1.0,1.0,1.0,1.0,1.0,1.0])                                                                                                                 |\n",
      "|ham  |Nah I don't think he goes to usf, he lives around here though                                                                                                                                       |[nah, i, don't, think, he, goes, to, usf,, he, lives, around, here, though]                                                                                                                                                               |[nah, think, goes, usf,, lives, around, though]                                                                                                                        |(13423,[36,134,313,545,1325,3302,3591],[1.0,1.0,1.0,1.0,1.0,1.0,1.0])                                                                                                                     |\n",
      "|spam |FreeMsg Hey there darling it's been 3 week's now and no word back! I'd like some fun you up for it still? Tb ok! XxX std chgs to send, £1.50 to rcv                                                 |[freemsg, hey, there, darling, it's, been, 3, week's, now, and, no, word, back!, i'd, like, some, fun, you, up, for, it, still?, tb, ok!, xxx, std, chgs, to, send,, £1.50, to, rcv]                                                      |[freemsg, hey, darling, 3, week's, word, back!, like, fun, still?, tb, ok!, xxx, std, chgs, send,, £1.50, rcv]                                                         |(13423,[10,60,139,286,350,368,490,1363,1643,2091,2665,3625,3952,4446,4639,4641,5133,6169],[1.0,1.0,1.0,1.0,1.0,1.0,1.0,1.0,1.0,1.0,1.0,1.0,1.0,1.0,1.0,1.0,1.0,1.0])                      |\n",
      "|ham  |Even my brother is not like to speak with me. They treat me like aids patent.                                                                                                                       |[even, my, brother, is, not, like, to, speak, with, me., they, treat, me, like, aids, patent.]                                                                                                                                            |[even, brother, like, speak, me., treat, like, aids, patent.]                                                                                                          |(13423,[10,53,103,243,622,749,8012,12636],[2.0,1.0,1.0,1.0,1.0,1.0,1.0,1.0])                                                                                                              |\n",
      "|ham  |As per your request 'Melle Melle (Oru Minnaminunginte Nurungu Vettam)' has been set as your callertune for all Callers. Press *9 to copy your friends Callertune                                    |[as, per, your, request, 'melle, melle, (oru, minnaminunginte, nurungu, vettam)', has, been, set, as, your, callertune, for, all, callers., press, *9, to, copy, your, friends, callertune]                                               |[per, request, 'melle, melle, (oru, minnaminunginte, nurungu, vettam)', set, callertune, callers., press, *9, copy, friends, callertune]                               |(13423,[125,184,409,913,925,950,1170,1596,1759,2560,2829,2887,2900,3108,3156],[1.0,1.0,1.0,1.0,2.0,1.0,1.0,1.0,1.0,1.0,1.0,1.0,1.0,1.0,1.0])                                              |\n",
      "|spam |WINNER!! As a valued network customer you have been selected to receivea £900 prize reward! To claim call 09061701461. Claim code KL341. Valid 12 hours only.                                       |[winner!!, as, a, valued, network, customer, you, have, been, selected, to, receivea, £900, prize, reward!, to, claim, call, 09061701461., claim, code, kl341., valid, 12, hours, only.]                                                  |[winner!!, valued, network, customer, selected, receivea, £900, prize, reward!, claim, call, 09061701461., claim, code, kl341., valid, 12, hours, only.]               |(13423,[1,47,118,145,293,322,351,500,543,573,793,1108,1309,2597,3348,3911,3989,4909],[1.0,2.0,1.0,1.0,1.0,1.0,1.0,1.0,1.0,1.0,1.0,1.0,1.0,1.0,1.0,1.0,1.0,1.0])                           |\n",
      "|spam |Had your mobile 11 months or more? U R entitled to Update to the latest colour mobiles with camera for Free! Call The Mobile Update Co FREE on 08002986030                                          |[had, your, mobile, 11, months, or, more?, u, r, entitled, to, update, to, the, latest, colour, mobiles, with, camera, for, free!, call, the, mobile, update, co, free, on, 08002986030]                                                  |[mobile, 11, months, more?, u, r, entitled, update, latest, colour, mobiles, camera, free!, call, mobile, update, co, free, 08002986030]                               |(13423,[0,1,13,27,38,196,282,369,391,414,875,1063,1188,1349,1860,2936,4140],[1.0,1.0,1.0,1.0,2.0,1.0,1.0,2.0,1.0,1.0,1.0,1.0,1.0,1.0,1.0,1.0,1.0])                                        |\n",
      "|ham  |I'm gonna be home soon and i don't want to talk about this stuff anymore tonight, k? I've cried enough today.                                                                                       |[i'm, gonna, be, home, soon, and, i, don't, want, to, talk, about, this, stuff, anymore, tonight,, k?, i've, cried, enough, today.]                                                                                                       |[gonna, home, soon, want, talk, stuff, anymore, tonight,, k?, cried, enough, today.]                                                                                   |(13423,[18,43,120,175,218,228,300,370,2483,5125,5349,10880],[1.0,1.0,1.0,1.0,1.0,1.0,1.0,1.0,1.0,1.0,1.0,1.0])                                                                            |\n",
      "|spam |SIX chances to win CASH! From 100 to 20,000 pounds txt> CSH11 and send to 87575. Cost 150p/day, 6days, 16+ TsandCs apply Reply HL 4 info                                                            |[six, chances, to, win, cash!, from, 100, to, 20,000, pounds, txt>, csh11, and, send, to, 87575., cost, 150p/day,, 6days,, 16+, tsandcs, apply, reply, hl, 4, info]                                                                       |[six, chances, win, cash!, 100, 20,000, pounds, txt>, csh11, send, 87575., cost, 150p/day,, 6days,, 16+, tsandcs, apply, reply, hl, 4, info]                           |(13423,[8,17,37,89,281,374,439,515,539,1079,1445,2025,2258,3369,3599,3620,3828,3978,4031,4051,5145],[1.0,1.0,1.0,1.0,1.0,1.0,1.0,1.0,1.0,1.0,1.0,1.0,1.0,1.0,1.0,1.0,1.0,1.0,1.0,1.0,1.0])|\n",
      "|spam |URGENT! You have won a 1 week FREE membership in our £100,000 Prize Jackpot! Txt the word: CLAIM to No: 81010 T&C www.dbuk.net LCCLTD POBOX 4403LDNW1A7RW18                                         |[urgent!, you, have, won, a, 1, week, free, membership, in, our, £100,000, prize, jackpot!, txt, the, word:, claim, to, no:, 81010, t&c, www.dbuk.net, lccltd, pobox, 4403ldnw1a7rw18]                                                    |[urgent!, won, 1, week, free, membership, £100,000, prize, jackpot!, txt, word:, claim, no:, 81010, t&c, www.dbuk.net, lccltd, pobox, 4403ldnw1a7rw18]                 |(13423,[13,30,47,87,99,100,118,161,499,525,667,985,2875,3472,3747,3820,4047,4525,4614],[1.0,1.0,1.0,1.0,1.0,1.0,1.0,1.0,1.0,1.0,1.0,1.0,1.0,1.0,1.0,1.0,1.0,1.0,1.0])                     |\n",
      "|ham  |I've been searching for the right words to thank you for this breather. I promise i wont take your help for granted and will fulfil my promise. You have been wonderful and a blessing at all times.|[i've, been, searching, for, the, right, words, to, thank, you, for, this, breather., i, promise, i, wont, take, your, help, for, granted, and, will, fulfil, my, promise., you, have, been, wonderful, and, a, blessing, at, all, times.]|[searching, right, words, thank, breather., promise, wont, take, help, granted, fulfil, promise., wonderful, blessing, times.]                                         |(13423,[39,96,217,221,289,586,629,1190,1809,2090,4108,4631,5390,5687,6572],[1.0,1.0,1.0,1.0,1.0,1.0,1.0,1.0,1.0,1.0,1.0,1.0,1.0,1.0,1.0])                                                 |\n",
      "|ham  |I HAVE A DATE ON SUNDAY WITH WILL!!                                                                                                                                                                 |[i, have, a, date, on, sunday, with, will!!]                                                                                                                                                                                              |[date, sunday, will!!]                                                                                                                                                 |(13423,[552,1697,11921],[1.0,1.0,1.0])                                                                                                                                                    |\n",
      "|spam |XXXMobileMovieClub: To use your credit, click the WAP link in the next txt message or click here>> http://wap. xxxmobilemovieclub.com?n=QJKGIGHJJGCBL                                               |[xxxmobilemovieclub:, to, use, your, credit,, click, the, wap, link, in, the, next, txt, message, or, click, here>>, http://wap., xxxmobilemovieclub.com?n=qjkgighjjgcbl]                                                                 |[xxxmobilemovieclub:, use, credit,, click, wap, link, next, txt, message, click, here>>, http://wap., xxxmobilemovieclub.com?n=qjkgighjjgcbl]                          |(13423,[30,109,111,173,1075,1254,1272,6001,6594,7155,7846,7924],[1.0,1.0,1.0,1.0,1.0,2.0,1.0,1.0,1.0,1.0,1.0,1.0])                                                                        |\n",
      "|ham  |Oh k...i'm watching here:)                                                                                                                                                                          |[oh, k...i'm, watching, here:)]                                                                                                                                                                                                           |[oh, k...i'm, watching, here:)]                                                                                                                                        |(13423,[82,214,4741,6768],[1.0,1.0,1.0,1.0])                                                                                                                                              |\n",
      "|ham  |Eh u remember how 2 spell his name... Yes i did. He v naughty make until i v wet.                                                                                                                   |[eh, u, remember, how, 2, spell, his, name..., yes, i, did., he, v, naughty, make, until, i, v, wet.]                                                                                                                                     |[eh, u, remember, 2, spell, name..., yes, did., v, naughty, make, v, wet.]                                                                                             |(13423,[0,2,49,132,198,271,778,1605,3117,4216,7764,12902],[1.0,1.0,1.0,1.0,2.0,1.0,1.0,1.0,1.0,1.0,1.0,1.0])                                                                              |\n",
      "|ham  |Fine if thats the way u feel. Thats the way its gota b                                                                                                                                            |[fine, if, thats, the, way, u, feel., thats, the, way, its, gota, b]                                                                                                                                                                    |[fine, thats, way, u, feel., thats, way, gota, b]                                                                                                                    |(13423,[0,74,105,559,2313,10181,11255],[1.0,2.0,1.0,1.0,2.0,1.0,1.0])                                                                                                                     |\n",
      "|spam |England v Macedonia - dont miss the goals/team news. Txt ur national team to 87077 eg ENGLAND to 87077 Try:WALES, SCOTLAND 4txt/ú1.20 POBOXox36504W45WQ 16+                                         |[england, v, macedonia, -, dont, miss, the, goals/team, news., txt, ur, national, team, to, 87077, eg, england, to, 87077, try:wales,, scotland, 4txt/ú1.20, poboxox36504w45wq, 16+]                                                      |[england, v, macedonia, -, dont, miss, goals/team, news., txt, ur, national, team, 87077, eg, england, 87077, try:wales,, scotland, 4txt/ú1.20, poboxox36504w45wq, 16+]|(13423,[4,30,33,59,78,198,374,728,839,1171,1298,3130,4103,7495,8307,8634,11774,12547,13012],[1.0,1.0,1.0,1.0,1.0,1.0,1.0,1.0,1.0,2.0,2.0,1.0,1.0,1.0,1.0,1.0,1.0,1.0,1.0])                |\n",
      "+-----+----------------------------------------------------------------------------------------------------------------------------------------------------------------------------------------------------+------------------------------------------------------------------------------------------------------------------------------------------------------------------------------------------------------------------------------------------+-----------------------------------------------------------------------------------------------------------------------------------------------------------------------+------------------------------------------------------------------------------------------------------------------------------------------------------------------------------------------+\n",
      "only showing top 20 rows\n",
      "\n"
     ]
    }
   ],
   "source": [
    "model = cv.fit(tokenize_out_sw)\n",
    "countvector = model.transform(tokenize_out_sw).show(truncate=False)"
   ]
  }
 ],
 "metadata": {
  "kernelspec": {
   "display_name": "Python 3",
   "language": "python",
   "name": "python3"
  },
  "language_info": {
   "codemirror_mode": {
    "name": "ipython",
    "version": 3
   },
   "file_extension": ".py",
   "mimetype": "text/x-python",
   "name": "python",
   "nbconvert_exporter": "python",
   "pygments_lexer": "ipython3",
   "version": "3.8.8"
  }
 },
 "nbformat": 4,
 "nbformat_minor": 5
}
